{
 "cells": [
  {
   "cell_type": "code",
   "execution_count": 3,
   "id": "9733cf3c-ee0d-4a9a-b389-ad16a39164e2",
   "metadata": {},
   "outputs": [],
   "source": [
    "import model_manager\n",
    "import model_utils\n",
    "import stage1_training\n",
    "import stage2_training"
   ]
  },
  {
   "cell_type": "code",
   "execution_count": 7,
   "id": "418ea02c-91cd-48be-a0fb-70dafcc4d9b0",
   "metadata": {},
   "outputs": [
    {
     "name": "stderr",
     "output_type": "stream",
     "text": [
      "2025-06-24 15:47:12,852 - model_manager - INFO - Loading model from local directory: ./model/stage1/convnextv2_base\n",
      "2025-06-24 15:47:15,721 - model_manager - INFO - Loaded model weights from: ./model/stage1/convnextv2_base/pytorch_model.bin\n",
      "2025-06-24 15:47:15,727 - model_manager - INFO - Successfully loaded model from local cache\n"
     ]
    }
   ],
   "source": [
    "# Simple usage in training scripts\n",
    "from model_manager import ModelManager\n",
    "\n",
    "manager = ModelManager(cache_base_dir='./model')\n",
    "model = manager.load_or_download_model(\n",
    "    stage='stage1',\n",
    "    model_name='convnextv2_base',\n",
    "    num_classes=2,\n",
    "    device='cpu'\n",
    ")"
   ]
  },
  {
   "cell_type": "code",
   "execution_count": 21,
   "id": "a4401e32-43ba-4def-bdd8-5bb6ce5c506d",
   "metadata": {},
   "outputs": [
    {
     "data": {
      "text/plain": [
       "{'stage1': ['convnextv2_base']}"
      ]
     },
     "execution_count": 21,
     "metadata": {},
     "output_type": "execute_result"
    }
   ],
   "source": [
    "model_manager.list_available_models()"
   ]
  },
  {
   "cell_type": "code",
   "execution_count": 23,
   "id": "660ebfca-b16b-42a4-aadb-f3b0a333523d",
   "metadata": {},
   "outputs": [
    {
     "name": "stderr",
     "output_type": "stream",
     "text": [
      "2025-06-24 15:52:13,933 - model_manager - INFO - Local model not found in: ./model/stage2/maxvit_base_tf_224\n",
      "2025-06-24 15:52:13,935 - model_manager - INFO - Downloading model 'maxvit_base_tf_224' from HuggingFace...\n",
      "2025-06-24 15:52:16,603 - model_manager - INFO - Model config saved to: ./model/stage2/maxvit_base_tf_224/config.json\n",
      "2025-06-24 15:52:16,603 - model_manager - INFO - Model saved to: ./model/stage2/maxvit_base_tf_224\n",
      "2025-06-24 15:52:18,224 - model_manager - INFO - Loaded model weights from: ./model/stage2/maxvit_base_tf_224/pytorch_model.bin\n",
      "2025-06-24 15:52:18,245 - model_manager - INFO - Model loaded: maxvit_base_tf_224\n",
      "2025-06-24 15:52:18,246 - model_manager - INFO - Total parameters: 118,700,246\n",
      "2025-06-24 15:52:18,246 - model_manager - INFO - Trainable parameters: 118,700,246\n"
     ]
    }
   ],
   "source": [
    "# Simple usage in training scripts\n",
    "from model_manager import ModelManager\n",
    "\n",
    "manager = ModelManager(cache_base_dir='./model')\n",
    "model = manager.load_or_download_model(\n",
    "    stage='stage2',\n",
    "    model_name='maxvit_base_tf_224',\n",
    "    num_classes=2,\n",
    "    device='cpu'\n",
    ")"
   ]
  }
 ],
 "metadata": {
  "kernelspec": {
   "display_name": "Python [conda env:base] *",
   "language": "python",
   "name": "conda-base-py"
  },
  "language_info": {
   "codemirror_mode": {
    "name": "ipython",
    "version": 3
   },
   "file_extension": ".py",
   "mimetype": "text/x-python",
   "name": "python",
   "nbconvert_exporter": "python",
   "pygments_lexer": "ipython3",
   "version": "3.12.7"
  }
 },
 "nbformat": 4,
 "nbformat_minor": 5
}
